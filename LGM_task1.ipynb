{
 "cells": [
  {
   "cell_type": "code",
   "execution_count": 15,
   "id": "04585370-7545-4ea8-856f-622a02e36ee8",
   "metadata": {},
   "outputs": [],
   "source": [
    "import cv2\n",
    "import numpy as np"
   ]
  },
  {
   "cell_type": "code",
   "execution_count": 16,
   "id": "0800e5cb-7db0-4cba-ba4b-51f3f8072cab",
   "metadata": {},
   "outputs": [],
   "source": [
    "# Function to convert image to pencil sketch\n",
    "def pencil_sketch(image):\n",
    "    # Convert to grayscale\n",
    "    gray_image = cv2.cvtColor(image, cv2.COLOR_BGR2GRAY)\n",
    "    \n",
    "    # Invert the grayscale image\n",
    "    inverted_image = 255 - gray_image\n",
    "    \n",
    "    # Blur the inverted image\n",
    "    blurred = cv2.GaussianBlur(inverted_image, (21, 21), 0)\n",
    "    \n",
    "    # Invert the blurred image\n",
    "    inverted_blurred = 255 - blurred\n",
    "    \n",
    "    # Create the pencil sketch image\n",
    "    pencil_sketch = cv2.divide(gray_image, inverted_blurred, scale=256.0)\n",
    "    \n",
    "    return pencil_sketch\n"
   ]
  },
  {
   "cell_type": "code",
   "execution_count": 17,
   "id": "51496977-0df7-4a77-8964-177646eb7ac9",
   "metadata": {},
   "outputs": [],
   "source": [
    "# Read an image\n",
    "image_path = 'virat.jpg'  # Replace with your image file path\n",
    "image = cv2.imread(image_path)"
   ]
  },
  {
   "cell_type": "code",
   "execution_count": null,
   "id": "e3049359-ca56-483d-abdd-34148b003c10",
   "metadata": {},
   "outputs": [],
   "source": [
    "new_width = 800  # New width in pixels\n",
    "new_height = 600  # New height in pixels\n",
    "image = cv2.resize(image, (new_width, new_height))"
   ]
  },
  {
   "cell_type": "code",
   "execution_count": 18,
   "id": "226f3679-4a05-4e65-800c-b4873454e8ca",
   "metadata": {},
   "outputs": [],
   "source": [
    "# Show original image\n",
    "cv2.imshow('Original Image', image)"
   ]
  },
  {
   "cell_type": "code",
   "execution_count": 19,
   "id": "43339201-66fc-4561-9450-21f2a3906fea",
   "metadata": {},
   "outputs": [],
   "source": [
    "# Convert image to pencil sketch\n",
    "sketch = pencil_sketch(image)\n",
    "\n",
    "# Show pencil sketch\n",
    "cv2.imshow('Pencil Sketch', sketch)\n",
    "\n",
    "# Wait for any key to exit0\n",
    "cv2.waitKey(0)\n",
    "cv2.destroyAllWindows()"
   ]
  }
 ],
 "metadata": {
  "kernelspec": {
   "display_name": "Python 3 (ipykernel)",
   "language": "python",
   "name": "python3"
  },
  "language_info": {
   "codemirror_mode": {
    "name": "ipython",
    "version": 3
   },
   "file_extension": ".py",
   "mimetype": "text/x-python",
   "name": "python",
   "nbconvert_exporter": "python",
   "pygments_lexer": "ipython3",
   "version": "3.11.7"
  }
 },
 "nbformat": 4,
 "nbformat_minor": 5
}
